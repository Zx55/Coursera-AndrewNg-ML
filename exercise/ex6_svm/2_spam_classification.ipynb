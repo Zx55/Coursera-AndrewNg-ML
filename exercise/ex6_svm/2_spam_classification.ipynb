{
 "cells": [
  {
   "cell_type": "markdown",
   "metadata": {},
   "source": [
    "# Spam Classification\n",
    "\n",
    "Use SVMs to build filter to classify emails into spam and non-spam email with high accuracy."
   ]
  },
  {
   "cell_type": "code",
   "execution_count": 14,
   "metadata": {},
   "outputs": [],
   "source": [
    "import numpy as np\n",
    "from scipy.io import loadmat\n",
    "from sklearn import svm\n",
    "from sklearn.metrics import classification_report\n",
    "import matplotlib.pyplot as plt\n",
    "%matplotlib inline"
   ]
  },
  {
   "cell_type": "markdown",
   "metadata": {},
   "source": [
    "## 1 Load processed data\n",
    "\n",
    "Features have been extracted from source emails as a n-dimension vector.\n",
    "\n",
    "$x_i = 1$ if i-th word in the vocabulary list and $x_i = 0$ if not."
   ]
  },
  {
   "cell_type": "code",
   "execution_count": 15,
   "metadata": {},
   "outputs": [
    {
     "name": "stdout",
     "output_type": "stream",
     "text": [
      "(4000, 1899)\n",
      "(4000,)\n"
     ]
    }
   ],
   "source": [
    "data = loadmat('spamTrain.mat')\n",
    "X_train = data['X']\n",
    "y_train = data['y'].ravel()\n",
    "print(X_train.shape)\n",
    "print(y_train.shape)"
   ]
  },
  {
   "cell_type": "code",
   "execution_count": 16,
   "metadata": {},
   "outputs": [
    {
     "name": "stdout",
     "output_type": "stream",
     "text": [
      "(1000, 1899)\n",
      "(1000,)\n"
     ]
    }
   ],
   "source": [
    "data = loadmat('spamTest.mat')\n",
    "X_test = data['Xtest']\n",
    "y_test = data['ytest'].ravel()\n",
    "print(X_test.shape)\n",
    "print(y_test.shape)"
   ]
  },
  {
   "cell_type": "markdown",
   "metadata": {},
   "source": [
    "## 2 Training SVMs for spam classification"
   ]
  },
  {
   "cell_type": "code",
   "execution_count": 19,
   "metadata": {},
   "outputs": [
    {
     "name": "stdout",
     "output_type": "stream",
     "text": [
      "Training accuracy is about 99.90%\n",
      "Test accuracy is about 99.00%\n"
     ]
    }
   ],
   "source": [
    "clf = svm.SVC(C=100, kernel='rbf', gamma='auto')\n",
    "clf.fit(X_train, y_train)\n",
    "print('Training accuracy is about {:.2f}%'.format(clf.score(X_train, y_train) * 100))\n",
    "print('Test accuracy is about {:.2f}%'.format(clf.score(X_test, y_test) * 100))"
   ]
  },
  {
   "cell_type": "code",
   "execution_count": 21,
   "metadata": {},
   "outputs": [
    {
     "name": "stdout",
     "output_type": "stream",
     "text": [
      "              precision    recall  f1-score   support\n",
      "\n",
      "           0       1.00      0.99      0.99       692\n",
      "           1       0.97      0.99      0.98       308\n",
      "\n",
      "   micro avg       0.99      0.99      0.99      1000\n",
      "   macro avg       0.99      0.99      0.99      1000\n",
      "weighted avg       0.99      0.99      0.99      1000\n",
      "\n"
     ]
    }
   ],
   "source": [
    "pred = clf.predict(X_test)\n",
    "print(classification_report(y_test, pred))"
   ]
  }
 ],
 "metadata": {
  "kernelspec": {
   "display_name": "Python 3",
   "language": "python",
   "name": "python3"
  },
  "language_info": {
   "codemirror_mode": {
    "name": "ipython",
    "version": 3
   },
   "file_extension": ".py",
   "mimetype": "text/x-python",
   "name": "python",
   "nbconvert_exporter": "python",
   "pygments_lexer": "ipython3",
   "version": "3.7.1"
  }
 },
 "nbformat": 4,
 "nbformat_minor": 2
}

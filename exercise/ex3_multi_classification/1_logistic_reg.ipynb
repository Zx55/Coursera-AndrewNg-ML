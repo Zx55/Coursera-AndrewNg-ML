{
 "cells": [
  {
   "cell_type": "markdown",
   "metadata": {},
   "source": [
    "# Vectorized logistic regression\n",
    "\n",
    "Recognize the handwritten digits (from 0 to 9) by using vectorized regularized logistic regression."
   ]
  },
  {
   "cell_type": "code",
   "execution_count": 2,
   "metadata": {},
   "outputs": [],
   "source": [
    "import numpy as np\n",
    "from scipy.io import loadmat\n",
    "import scipy.optimize as opt\n",
    "import matplotlib.pyplot as plt\n",
    "import matplotlib\n",
    "from sklearn.metrics import classification_report\n",
    "%matplotlib inline \n",
    "np.set_printoptions(precision=3)"
   ]
  },
  {
   "cell_type": "markdown",
   "metadata": {},
   "source": [
    "## 1 Load data\n",
    "\n",
    "Training examples are stored in **ex3data1.mat**."
   ]
  },
  {
   "cell_type": "code",
   "execution_count": 3,
   "metadata": {},
   "outputs": [],
   "source": [
    "def load_data(path):\n",
    "    data = loadmat(path)\n",
    "    X, y = data['X'], data['y']\n",
    "    y = y.reshape(y.shape[0])\n",
    "    \n",
    "    X = np.array([im.reshape((20, 20)).T for im in X])\n",
    "    X = np.array([im.reshape(400) for im in X])\n",
    "    \n",
    "    return X, y"
   ]
  },
  {
   "cell_type": "markdown",
   "metadata": {},
   "source": [
    "Transform y from labels to boolean vectors"
   ]
  },
  {
   "cell_type": "code",
   "execution_count": 19,
   "metadata": {},
   "outputs": [],
   "source": [
    "def transform_y(y):\n",
    "    y_matrix = []\n",
    "    for i in range(1, 11):\n",
    "        y_matrix.append((y==i).astype(int))\n",
    "    return np.array([y_matrix[-1]] + y_matrix[:-1])\n",
    "\n",
    "\n",
    "def get_label(y, index):\n",
    "    label = y[:, index]\n",
    "    return np.argmax(label)"
   ]
  },
  {
   "cell_type": "code",
   "execution_count": 27,
   "metadata": {},
   "outputs": [
    {
     "name": "stdout",
     "output_type": "stream",
     "text": [
      "(5000, 401)\n",
      "[[1 1 1 ... 0 0 0]\n",
      " [0 0 0 ... 0 0 0]\n",
      " [0 0 0 ... 0 0 0]\n",
      " ...\n",
      " [0 0 0 ... 0 0 0]\n",
      " [0 0 0 ... 0 0 0]\n",
      " [0 0 0 ... 1 1 1]]\n",
      "(10, 5000)\n"
     ]
    }
   ],
   "source": [
    "X, y = load_data(\"ex3data1.mat\")\n",
    "\n",
    "X = np.insert(X, 0, values=np.ones(X.shape[0]), axis=1)\n",
    "print(X.shape)\n",
    "\n",
    "raw_y = y.copy()\n",
    "y = transform_y(y)\n",
    "print(y)\n",
    "print(y.shape)"
   ]
  },
  {
   "cell_type": "markdown",
   "metadata": {},
   "source": [
    "## 2 Visualizing the data\n",
    "\n",
    "Plot the digit based on the X matrix."
   ]
  },
  {
   "cell_type": "code",
   "execution_count": 21,
   "metadata": {},
   "outputs": [],
   "source": [
    "def plot_digit(digit):\n",
    "    fig, ax = plt.subplots(figsize=(1,1))\n",
    "    ax.matshow(digit[1:].reshape((20, 20)), cmap=matplotlib.cm.binary)\n",
    "    plt.xticks([])\n",
    "    plt.yticks([])"
   ]
  },
  {
   "cell_type": "code",
   "execution_count": 22,
   "metadata": {},
   "outputs": [
    {
     "data": {
      "image/png": "[encoded data removed]",
      "text/plain": [
       "<Figure size 72x72 with 1 Axes>"
      ]
     },
     "metadata": {},
     "output_type": "display_data"
    },
    {
     "name": "stdout",
     "output_type": "stream",
     "text": [
      "This should be 0\n"
     ]
    }
   ],
   "source": [
    "plot_digit(X[0])\n",
    "plt.show()\n",
    "print(\"This should be\", get_label(y, 0))"
   ]
  },
  {
   "cell_type": "markdown",
   "metadata": {},
   "source": [
    "## 3 Train 1-dimension model\n",
    "\n",
    "First, try to check if a digit is zero."
   ]
  },
  {
   "cell_type": "code",
   "execution_count": 10,
   "metadata": {},
   "outputs": [],
   "source": [
    "def sigmoid(z):\n",
    "    return 1 / (np.exp(-z) + 1)"
   ]
  },
  {
   "cell_type": "code",
   "execution_count": 11,
   "metadata": {},
   "outputs": [],
   "source": [
    "def cost(theta, X, y):\n",
    "    '''\n",
    "    Compute the cost fuction of logistic regression.\n",
    "    '''\n",
    "    return np.mean(-y * np.log(sigmoid(X @ theta)) - (1 - y) * np.log(1 - sigmoid(X @ theta)))"
   ]
  },
  {
   "cell_type": "code",
   "execution_count": 12,
   "metadata": {},
   "outputs": [],
   "source": [
    "def regularized_cost(theta, X, y, reg=1):\n",
    "    '''\n",
    "    Compute the cost fuction of regularized logistic regression.\n",
    "    Don't penalize theta_0.\n",
    "    '''\n",
    "    regularized_theta = theta[1:]\n",
    "    regularized_term = (reg / (2 * len(X))) * np.power(regularized_theta, 2).sum()\n",
    "    return cost(theta, X, y) + regularized_term"
   ]
  },
  {
   "cell_type": "code",
   "execution_count": 13,
   "metadata": {},
   "outputs": [],
   "source": [
    "def gradient(theta, X, y):\n",
    "    '''\n",
    "    Compute 1-batch-gradient of logistic regression.\n",
    "    '''\n",
    "    return (1 / len(X)) * X.T @ (sigmoid(X @ theta) - y)"
   ]
  },
  {
   "cell_type": "code",
   "execution_count": 14,
   "metadata": {},
   "outputs": [],
   "source": [
    "def regularized_gradient(theta, X, y, reg=1):\n",
    "    '''\n",
    "    Compute batch gradient of regularized logistic regression.\n",
    "    '''\n",
    "    regularized_theta = (reg / len(X)) * theta[1:]\n",
    "    regularized_term = np.concatenate([np.array([0]), regularized_theta])\n",
    "    return gradient(theta, X, y) + regularized_term"
   ]
  },
  {
   "cell_type": "code",
   "execution_count": 15,
   "metadata": {},
   "outputs": [],
   "source": [
    "def logistic_regression(X, y, reg=1):\n",
    "    '''\n",
    "    Using batch gradient descent to minimize cost function of regularized logistic regression.\n",
    "    '''\n",
    "    theta = np.zeros(X.shape[1])\n",
    "    res = opt.minimize(fun=regularized_cost, x0=theta, args=(X, y, reg), method='TNC', jac=regularized_gradient, options={'disp': True})\n",
    "    final_theta = res.x\n",
    "    return final_theta"
   ]
  },
  {
   "cell_type": "code",
   "execution_count": 16,
   "metadata": {},
   "outputs": [],
   "source": [
    "def predict(X, theta):\n",
    "    prob = sigmoid(X @ theta)\n",
    "    return (prob >= 0.5).astype(int)"
   ]
  },
  {
   "cell_type": "code",
   "execution_count": 17,
   "metadata": {},
   "outputs": [
    {
     "name": "stdout",
     "output_type": "stream",
     "text": [
      "Accuracy=0.9974\n"
     ]
    }
   ],
   "source": [
    "trained_theta = logistic_regression(X, y[0], reg=1)\n",
    "y_pred = predict(X, trained_theta)\n",
    "print(\"Accuracy={}\".format(np.mean(y_pred == y[0])))"
   ]
  },
  {
   "cell_type": "markdown",
   "metadata": {},
   "source": [
    "## 4 Train k-dimension model"
   ]
  },
  {
   "cell_type": "code",
   "execution_count": 18,
   "metadata": {},
   "outputs": [
    {
     "data": {
      "text/plain": [
       "(10, 401)"
      ]
     },
     "execution_count": 18,
     "metadata": {},
     "output_type": "execute_result"
    }
   ],
   "source": [
    "k_theta = np.array([logistic_regression(X, y[i]) for i in range(0, 10)])\n",
    "k_theta.shape"
   ]
  },
  {
   "cell_type": "code",
   "execution_count": 23,
   "metadata": {},
   "outputs": [],
   "source": [
    "def predict_k(X, k_theta):\n",
    "    prob_matrix = sigmoid(X @ k_theta.T)\n",
    "    return np.argmax(prob_matrix, axis=1)"
   ]
  },
  {
   "cell_type": "code",
   "execution_count": 29,
   "metadata": {},
   "outputs": [
    {
     "data": {
      "text/plain": [
       "array([0, 0, 0, ..., 9, 9, 7], dtype=int64)"
      ]
     },
     "execution_count": 29,
     "metadata": {},
     "output_type": "execute_result"
    }
   ],
   "source": [
    "y_pred = predict_k(X, k_theta)\n",
    "y_pred"
   ]
  },
  {
   "cell_type": "markdown",
   "metadata": {},
   "source": [
    "## 5 Evaluate the prediction"
   ]
  },
  {
   "cell_type": "code",
   "execution_count": 30,
   "metadata": {},
   "outputs": [
    {
     "data": {
      "text/plain": [
       "array([0, 0, 0, ..., 9, 9, 9], dtype=uint8)"
      ]
     },
     "execution_count": 30,
     "metadata": {},
     "output_type": "execute_result"
    }
   ],
   "source": [
    "raw_y[raw_y == 10] = 0\n",
    "y_ans = raw_y\n",
    "y_ans"
   ]
  },
  {
   "cell_type": "code",
   "execution_count": 32,
   "metadata": {},
   "outputs": [
    {
     "name": "stdout",
     "output_type": "stream",
     "text": [
      "              precision    recall  f1-score   support\n",
      "\n",
      "           0       0.97      0.99      0.98       500\n",
      "           1       0.95      0.99      0.97       500\n",
      "           2       0.95      0.92      0.93       500\n",
      "           3       0.95      0.91      0.93       500\n",
      "           4       0.95      0.95      0.95       500\n",
      "           5       0.92      0.92      0.92       500\n",
      "           6       0.97      0.98      0.97       500\n",
      "           7       0.95      0.95      0.95       500\n",
      "           8       0.93      0.92      0.92       500\n",
      "           9       0.92      0.92      0.92       500\n",
      "\n",
      "   micro avg       0.94      0.94      0.94      5000\n",
      "   macro avg       0.94      0.94      0.94      5000\n",
      "weighted avg       0.94      0.94      0.94      5000\n",
      "\n"
     ]
    }
   ],
   "source": [
    "print(classification_report(y_ans, y_pred))"
   ]
  }
 ],
 "metadata": {
  "kernelspec": {
   "display_name": "Python 3",
   "language": "python",
   "name": "python3"
  },
  "language_info": {
   "codemirror_mode": {
    "name": "ipython",
    "version": 3
   },
   "file_extension": ".py",
   "mimetype": "text/x-python",
   "name": "python",
   "nbconvert_exporter": "python",
   "pygments_lexer": "ipython3",
   "version": "3.7.2"
  }
 },
 "nbformat": 4,
 "nbformat_minor": 2
}

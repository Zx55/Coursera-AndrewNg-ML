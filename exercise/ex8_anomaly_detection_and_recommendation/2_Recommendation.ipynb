{
 "cells": [
  {
   "cell_type": "markdown",
   "metadata": {},
   "source": [
    "# Recommendation System\n",
    "\n",
    "Implement collaborative filtering learning algorithm and apply it to a dataset of movie ratings."
   ]
  },
  {
   "cell_type": "code",
   "execution_count": 52,
   "metadata": {},
   "outputs": [],
   "source": [
    "import numpy as np\n",
    "from scipy.io import loadmat\n",
    "import scipy.optimize as opt\n",
    "import matplotlib.pyplot as plt\n",
    "%matplotlib inline"
   ]
  },
  {
   "cell_type": "markdown",
   "metadata": {},
   "source": [
    "## 1 Load the data"
   ]
  },
  {
   "cell_type": "code",
   "execution_count": 53,
   "metadata": {},
   "outputs": [
    {
     "name": "stdout",
     "output_type": "stream",
     "text": [
      "(1682, 943)\n",
      "(1682, 943)\n"
     ]
    }
   ],
   "source": [
    "data = loadmat('data/ex8_movies.mat')\n",
    "# User ratings of movies\n",
    "Y = data['Y']\n",
    "# R(i, j) = 1 if the i-th movie was rated by j-th user\n",
    "R = data['R']\n",
    "print(Y.shape)\n",
    "print(R.shape)"
   ]
  },
  {
   "cell_type": "code",
   "execution_count": 54,
   "metadata": {},
   "outputs": [
    {
     "data": {
      "text/plain": [
       "(1682, 943)"
      ]
     },
     "execution_count": 54,
     "metadata": {},
     "output_type": "execute_result"
    }
   ],
   "source": [
    "param = loadmat('data/ex8_movieParams.mat')\n",
    "m, u = Y.shape\n",
    "m, u"
   ]
  },
  {
   "cell_type": "code",
   "execution_count": 55,
   "metadata": {},
   "outputs": [
    {
     "name": "stdout",
     "output_type": "stream",
     "text": [
      "(943, 10)\n",
      "(1682, 10)\n"
     ]
    }
   ],
   "source": [
    "theta = param['Theta']\n",
    "X = param['X']\n",
    "print(theta.shape)\n",
    "print(X.shape)"
   ]
  },
  {
   "cell_type": "markdown",
   "metadata": {},
   "source": [
    "## 2 Collaborative filtering learning algorithm"
   ]
  },
  {
   "cell_type": "code",
   "execution_count": 56,
   "metadata": {},
   "outputs": [],
   "source": [
    "def serialize(X, theta):\n",
    "    '''\n",
    "    Unroll the parameters into a single vector parameters.\n",
    "    '''\n",
    "    return np.concatenate([X.ravel(), theta.ravel()])"
   ]
  },
  {
   "cell_type": "code",
   "execution_count": 57,
   "metadata": {},
   "outputs": [],
   "source": [
    "def deserialize(param, n, u, m):\n",
    "    '''\n",
    "    Transform serialized parameters into origin X and theta.\n",
    "    '''\n",
    "    return param[:m * n].reshape(m, n), param[m * n:].reshape(u, n)"
   ]
  },
  {
   "cell_type": "code",
   "execution_count": 58,
   "metadata": {},
   "outputs": [],
   "source": [
    "def cost(param, Y, R, n):\n",
    "    X, theta = deserialize(param, n, Y.shape[1], Y.shape[0])\n",
    "    return np.power((X @ theta.T - Y) * R, 2).sum() / 2"
   ]
  },
  {
   "cell_type": "code",
   "execution_count": 59,
   "metadata": {},
   "outputs": [
    {
     "data": {
      "text/plain": [
       "22.224603725685675"
      ]
     },
     "execution_count": 59,
     "metadata": {},
     "output_type": "execute_result"
    }
   ],
   "source": [
    "u_sub = 4\n",
    "m_sub = 5\n",
    "n_sub = 3\n",
    "\n",
    "X_sub = X[:m_sub, :n_sub]\n",
    "theta_sub = theta[:u_sub, :n_sub]\n",
    "Y_sub = Y[:m_sub, :u_sub]\n",
    "R_sub = R[:m_sub, :u_sub]\n",
    "cost(serialize(X_sub, theta_sub), Y_sub, R_sub, n_sub)"
   ]
  },
  {
   "cell_type": "code",
   "execution_count": 60,
   "metadata": {},
   "outputs": [],
   "source": [
    "def regularized_cost(param, Y, R, n, reg):\n",
    "    reg_term = np.power(param, 2).sum()\n",
    "    return cost(param, Y, R, n) + (reg / 2) * reg_term"
   ]
  },
  {
   "cell_type": "code",
   "execution_count": 61,
   "metadata": {},
   "outputs": [
    {
     "data": {
      "text/plain": [
       "31.34405624427422"
      ]
     },
     "execution_count": 61,
     "metadata": {},
     "output_type": "execute_result"
    }
   ],
   "source": [
    "regularized_cost(serialize(X_sub, theta_sub), Y_sub, R_sub, n_sub, reg=1.5)"
   ]
  },
  {
   "cell_type": "code",
   "execution_count": 62,
   "metadata": {},
   "outputs": [],
   "source": [
    "def gradient(param, Y, R, n):\n",
    "    X, theta = deserialize(param, n, Y.shape[1], Y.shape[0])\n",
    "    inner_term = (X @ theta.T - Y) * R\n",
    "    X_grad = inner_term @ theta\n",
    "    theta_grad = inner_term.T @ X\n",
    "    return serialize(X_grad, theta_grad)"
   ]
  },
  {
   "cell_type": "code",
   "execution_count": 63,
   "metadata": {},
   "outputs": [],
   "source": [
    "def regularized_gradient(param, Y, R, n, reg):\n",
    "    return gradient(param, Y, R, n) + reg * param"
   ]
  },
  {
   "cell_type": "code",
   "execution_count": 64,
   "metadata": {},
   "outputs": [],
   "source": [
    "def random_init(n, u, m):\n",
    "    X = np.random.standard_normal((m, n))\n",
    "    theta = np.random.standard_normal((u, n))\n",
    "    return serialize(X, theta)"
   ]
  },
  {
   "cell_type": "code",
   "execution_count": 65,
   "metadata": {},
   "outputs": [],
   "source": [
    "def collaborative_filter(Y, R, n, reg):\n",
    "    param = random_init(n, Y.shape[1], Y.shape[0])\n",
    "    Y_norm = Y - Y.mean()\n",
    "    \n",
    "    return opt.minimize(fun=regularized_cost, \n",
    "                        x0=param, \n",
    "                        args=(Y_norm, R, n, reg), \n",
    "                        method='TNC', \n",
    "                        jac=regularized_gradient)"
   ]
  },
  {
   "cell_type": "code",
   "execution_count": 66,
   "metadata": {},
   "outputs": [],
   "source": [
    "def predict(X, theta, Y, user_id):\n",
    "    return (X @ theta.T)[:, user_id] + Y.mean() "
   ]
  },
  {
   "cell_type": "markdown",
   "metadata": {},
   "source": [
    "## 3 Recommendation system"
   ]
  },
  {
   "cell_type": "code",
   "execution_count": 67,
   "metadata": {},
   "outputs": [],
   "source": [
    "# Original rating provided\n",
    "ratings = np.zeros(1682)\n",
    "\n",
    "ratings[0] = 4\n",
    "ratings[6] = 3\n",
    "ratings[11] = 5\n",
    "ratings[53] = 4\n",
    "ratings[63] = 5\n",
    "ratings[65] = 3\n",
    "ratings[68] = 5\n",
    "ratings[97] = 2\n",
    "ratings[182] = 4\n",
    "ratings[225] = 5\n",
    "ratings[354] = 5"
   ]
  },
  {
   "cell_type": "code",
   "execution_count": 68,
   "metadata": {},
   "outputs": [
    {
     "name": "stdout",
     "output_type": "stream",
     "text": [
      "(1682, 944)\n",
      "(1682, 944)\n"
     ]
    }
   ],
   "source": [
    "# Add new user and ratings\n",
    "Y = np.insert(Y, 0, ratings, axis=1)\n",
    "R = np.insert(R, 0, ratings != 0, axis=1)\n",
    "print(Y.shape)\n",
    "print(R.shape)"
   ]
  },
  {
   "cell_type": "code",
   "execution_count": 69,
   "metadata": {},
   "outputs": [
    {
     "data": {
      "text/plain": [
       "(1682,)"
      ]
     },
     "execution_count": 69,
     "metadata": {},
     "output_type": "execute_result"
    }
   ],
   "source": [
    "# Get movie list\n",
    "movie_list = []\n",
    "\n",
    "with open('data/movie_ids.txt', encoding='latin-1') as f:\n",
    "    for line in f:\n",
    "        tokens = line.strip().split(' ')\n",
    "        movie_list.append(' '.join(tokens[1:]))\n",
    "\n",
    "movie_list = np.array(movie_list)\n",
    "movie_list.shape"
   ]
  },
  {
   "cell_type": "code",
   "execution_count": 70,
   "metadata": {},
   "outputs": [
    {
     "data": {
      "text/plain": [
       "     fun: 64721.4978150674\n",
       "     jac: array([ 5.20494698e-07,  1.67992963e-06, -3.22015397e-07, ...,\n",
       "       -1.10269041e-06, -3.48987402e-07,  7.62450979e-07])\n",
       " message: 'Converged (|f_n-f_(n-1)| ~= 0)'\n",
       "    nfev: 2343\n",
       "     nit: 73\n",
       "  status: 1\n",
       " success: True\n",
       "       x: array([ 0.34870462, -0.00431869,  0.28995785, ...,  0.08995447,\n",
       "       -0.2101121 ,  0.85348229])"
      ]
     },
     "execution_count": 70,
     "metadata": {},
     "output_type": "execute_result"
    }
   ],
   "source": [
    "res = collaborative_filter(Y, R, n=50, reg=10)\n",
    "res"
   ]
  },
  {
   "cell_type": "code",
   "execution_count": 85,
   "metadata": {},
   "outputs": [
    {
     "name": "stdout",
     "output_type": "stream",
     "text": [
      "(1682, 50)\n",
      "(944, 50)\n"
     ]
    }
   ],
   "source": [
    "X_train, theta_train = deserialize(res.x, 50, u + 1, m)\n",
    "print(X_train.shape)\n",
    "print(theta_train.shape)"
   ]
  },
  {
   "cell_type": "code",
   "execution_count": 91,
   "metadata": {},
   "outputs": [
    {
     "data": {
      "text/plain": [
       "array([4.12535269, 4.04413158, 3.99324183, 3.91902783, 3.81690297,\n",
       "       3.81556239, 3.76602646, 3.76322429, 3.75905   , 3.75078089])"
      ]
     },
     "execution_count": 91,
     "metadata": {},
     "output_type": "execute_result"
    }
   ],
   "source": [
    "pred = predict(X_train, theta_train, Y, 0)\n",
    "idx = np.argsort(pred)[::-1]\n",
    "pred[idx[:10]]"
   ]
  },
  {
   "cell_type": "code",
   "execution_count": 95,
   "metadata": {},
   "outputs": [
    {
     "name": "stdout",
     "output_type": "stream",
     "text": [
      " 1. Titanic (1997)                      Rating: 4.13\n",
      " 2. Star Wars (1977)                    Rating: 4.04\n",
      " 3. Shawshank Redemption, The (1994)    Rating: 3.99\n",
      " 4. Forrest Gump (1994)                 Rating: 3.92\n",
      " 5. Raiders of the Lost Ark (1981)      Rating: 3.82\n",
      " 6. Braveheart (1995)                   Rating: 3.82\n",
      " 7. Return of the Jedi (1983)           Rating: 3.77\n",
      " 8. Usual Suspects, The (1995)          Rating: 3.76\n",
      " 9. Godfather, The (1972)               Rating: 3.76\n",
      "10. Schindler's List (1993)             Rating: 3.75\n"
     ]
    }
   ],
   "source": [
    "for i, m in enumerate(movie_list[idx[:10]]):\n",
    "    print(\"{:2d}. {:35} Rating: {:.2f}\".format(i + 1, m, pred[idx[i]]))"
   ]
  }
 ],
 "metadata": {
  "kernelspec": {
   "display_name": "Python 3",
   "language": "python",
   "name": "python3"
  },
  "language_info": {
   "codemirror_mode": {
    "name": "ipython",
    "version": 3
   },
   "file_extension": ".py",
   "mimetype": "text/x-python",
   "name": "python",
   "nbconvert_exporter": "python",
   "pygments_lexer": "ipython3",
   "version": "3.7.2"
  }
 },
 "nbformat": 4,
 "nbformat_minor": 2
}
